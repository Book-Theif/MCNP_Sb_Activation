{
 "cells": [
  {
   "cell_type": "code",
   "execution_count": 137,
   "id": "8fd0254f",
   "metadata": {},
   "outputs": [],
   "source": [
    "import numpy as np\n",
    "import matplotlib.pyplot as plt\n",
    "import pandas as pd"
   ]
  },
  {
   "cell_type": "code",
   "execution_count": 138,
   "id": "5f3ecbf3",
   "metadata": {},
   "outputs": [],
   "source": [
    "isotopes = np.array([\"Sb122\" , \"Sb124\",\"Al28\",\"Cu64\",\"Cu66\"])\n",
    "t12_day  = np.array([ 2.7238 , 60.20, 0.0015625, 0.529167, 0.003556])"
   ]
  },
  {
   "cell_type": "code",
   "execution_count": 139,
   "id": "6e603145",
   "metadata": {},
   "outputs": [],
   "source": [
    "mcnp_outp = np.array([ 4.98943E-07 , 2.60167E-07, 7.70269E-09, 3.17375E-09, 5.04757E-09])\n",
    "mcnp_unc  = np.array([ 1.26, 2.31, .42, 0.6, 0.48])"
   ]
  },
  {
   "cell_type": "code",
   "execution_count": 140,
   "id": "95340199",
   "metadata": {},
   "outputs": [],
   "source": [
    "## Simulation settings\n",
    "vol_cc = np.array([0.14945,0.14945,14.37755,14.37755,14.37755])\n",
    "nps    = 1e7"
   ]
  },
  {
   "cell_type": "code",
   "execution_count": 141,
   "id": "c6acdee8",
   "metadata": {},
   "outputs": [
    {
     "name": "stdout",
     "output_type": "stream",
     "text": [
      "  isotope    t12_day     mcnp_outp  mcnp_unc in %       vol     t12_hour\n",
      "0   Sb122   2.723800  4.989430e-07           1.26   0.14945    65.371200\n",
      "1   Sb124  60.200000  2.601670e-07           2.31   0.14945  1444.800000\n",
      "2    Al28   0.001563  7.702690e-09           0.42  14.37755     0.037500\n",
      "3    Cu64   0.529167  3.173750e-09           0.60  14.37755    12.700008\n",
      "4    Cu66   0.003556  5.047570e-09           0.48  14.37755     0.085344\n"
     ]
    }
   ],
   "source": [
    "data = {'isotope':isotopes, 't12_day':t12_day, \n",
    "        'mcnp_outp':mcnp_outp, 'mcnp_unc in %':mcnp_unc, 'vol':vol_cc}\n",
    " \n",
    "# Create DataFrame\n",
    "df = pd.DataFrame.from_dict(data)\n",
    "df[\"t12_hour\"] = 24. * df[\"t12_day\"]\n",
    " \n",
    "# Print the output.\n",
    "print(df)"
   ]
  },
  {
   "cell_type": "code",
   "execution_count": 142,
   "id": "41f358af",
   "metadata": {},
   "outputs": [],
   "source": [
    "df[\"prod-per-n\"] = nps * df[\"vol\"] * df[\"mcnp_outp\"]"
   ]
  },
  {
   "cell_type": "code",
   "execution_count": 143,
   "id": "a7fc8cb6",
   "metadata": {},
   "outputs": [],
   "source": [
    "dd_rate = 1e8 ## max rate of n/sec"
   ]
  },
  {
   "cell_type": "code",
   "execution_count": 144,
   "id": "6faa8c61",
   "metadata": {},
   "outputs": [
    {
     "name": "stdout",
     "output_type": "stream",
     "text": [
      "10.0\n"
     ]
    }
   ],
   "source": [
    "## In one second, DD creates 10^8 neutrons\n",
    "sims_per_sec = dd_rate/nps\n",
    "print(sims_per_sec)"
   ]
  },
  {
   "cell_type": "code",
   "execution_count": 145,
   "id": "1fa7de97",
   "metadata": {},
   "outputs": [],
   "source": [
    "exposure_hrs = 48.0\n",
    "df[\"max-n-activated\"] = (exposure_hrs*3600)*df[\"prod-per-n\"]*sims_per_sec"
   ]
  },
  {
   "cell_type": "code",
   "execution_count": 146,
   "id": "f9b8be50",
   "metadata": {},
   "outputs": [],
   "source": [
    "df[\"after-act-prof\"] = df[\"max-n-activated\"] * (1-np.exp(-np.log(2) *(exposure_hrs/24.) /df[\"t12_day\"]))*( (1/np.log(2))*(df[\"t12_day\"]/(exposure_hrs/24.)))"
   ]
  },
  {
   "cell_type": "code",
   "execution_count": 147,
   "id": "22bae48e",
   "metadata": {},
   "outputs": [],
   "source": [
    "cooldown_days = 8.0\n",
    "df[\"after-decay-time\"] = df[\"after-act-prof\"] * np.exp(-np.log(2)*cooldown_days/df[\"t12_day\"])"
   ]
  },
  {
   "cell_type": "code",
   "execution_count": 148,
   "id": "0bcb39bb",
   "metadata": {},
   "outputs": [],
   "source": [
    "df['act-Bq'] = df[\"after-decay-time\"]*np.log(2)/(24*3600*df[\"t12_day\"])\n",
    "df['act-kBq']=df['act-Bq']/1000"
   ]
  },
  {
   "cell_type": "code",
   "execution_count": 149,
   "id": "4d39bf57",
   "metadata": {},
   "outputs": [
    {
     "name": "stdout",
     "output_type": "stream",
     "text": [
      "  isotope    t12_day     mcnp_outp  mcnp_unc in %       vol     t12_hour  \\\n",
      "0   Sb122   2.723800  4.989430e-07           1.26   0.14945    65.371200   \n",
      "1   Sb124  60.200000  2.601670e-07           2.31   0.14945  1444.800000   \n",
      "2    Al28   0.001563  7.702690e-09           0.42  14.37755     0.037500   \n",
      "3    Cu64   0.529167  3.173750e-09           0.60  14.37755    12.700008   \n",
      "4    Cu66   0.003556  5.047570e-09           0.48  14.37755     0.085344   \n",
      "\n",
      "   prod-per-n  max-n-activated  after-act-prof  after-decay-time    act-Bq  \\\n",
      "0    0.745670     1.288518e+06    1.009833e+06     131856.761402  0.388364   \n",
      "1    0.388820     6.718802e+05    6.642032e+05     605754.959047  0.080726   \n",
      "2    1.107458     1.913688e+06    2.156928e+03          0.000000  0.000000   \n",
      "3    0.456307     7.884993e+05    2.790633e+05          7.846952  0.000119   \n",
      "4    0.725717     1.254039e+06    3.216750e+03          0.000000  0.000000   \n",
      "\n",
      "        act-kBq  \n",
      "0  3.883639e-04  \n",
      "1  8.072577e-05  \n",
      "2  0.000000e+00  \n",
      "3  1.189652e-07  \n",
      "4  0.000000e+00  \n"
     ]
    }
   ],
   "source": [
    "print(df)"
   ]
  }
 ],
 "metadata": {
  "kernelspec": {
   "display_name": "Python 3 (ipykernel)",
   "language": "python",
   "name": "python3"
  },
  "language_info": {
   "codemirror_mode": {
    "name": "ipython",
    "version": 3
   },
   "file_extension": ".py",
   "mimetype": "text/x-python",
   "name": "python",
   "nbconvert_exporter": "python",
   "pygments_lexer": "ipython3",
   "version": "3.9.12"
  }
 },
 "nbformat": 4,
 "nbformat_minor": 5
}
